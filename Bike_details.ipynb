{
 "cells": [
  {
   "cell_type": "code",
   "execution_count": 2,
   "id": "33bc862a-68c1-4e7a-8e36-b6123a238bf9",
   "metadata": {},
   "outputs": [],
   "source": [
    "import pandas as pd\n",
    "import numpy as np\n",
    "import matplotlib.pyplot as plt\n",
    "import seaborn as sns\n",
    "\n",
    "import warnings\n",
    "warnings.filterwarnings('ignore')"
   ]
  },
  {
   "cell_type": "code",
   "execution_count": 3,
   "id": "24849958-0f51-4f2d-9ddf-7654fbc8a576",
   "metadata": {},
   "outputs": [],
   "source": [
    "df = pd.read_csv(\"BIKE DETAILS.csv\")"
   ]
  },
  {
   "cell_type": "code",
   "execution_count": 4,
   "id": "8d1c98a7-1616-47dd-8304-723d37033b99",
   "metadata": {},
   "outputs": [
    {
     "data": {
      "text/html": [
       "<div>\n",
       "<style scoped>\n",
       "    .dataframe tbody tr th:only-of-type {\n",
       "        vertical-align: middle;\n",
       "    }\n",
       "\n",
       "    .dataframe tbody tr th {\n",
       "        vertical-align: top;\n",
       "    }\n",
       "\n",
       "    .dataframe thead th {\n",
       "        text-align: right;\n",
       "    }\n",
       "</style>\n",
       "<table border=\"1\" class=\"dataframe\">\n",
       "  <thead>\n",
       "    <tr style=\"text-align: right;\">\n",
       "      <th></th>\n",
       "      <th>name</th>\n",
       "      <th>selling_price</th>\n",
       "      <th>year</th>\n",
       "      <th>seller_type</th>\n",
       "      <th>owner</th>\n",
       "      <th>km_driven</th>\n",
       "      <th>ex_showroom_price</th>\n",
       "    </tr>\n",
       "  </thead>\n",
       "  <tbody>\n",
       "    <tr>\n",
       "      <th>0</th>\n",
       "      <td>Royal Enfield Classic 350</td>\n",
       "      <td>175000</td>\n",
       "      <td>2019</td>\n",
       "      <td>Individual</td>\n",
       "      <td>1st owner</td>\n",
       "      <td>350</td>\n",
       "      <td>NaN</td>\n",
       "    </tr>\n",
       "    <tr>\n",
       "      <th>1</th>\n",
       "      <td>Honda Dio</td>\n",
       "      <td>45000</td>\n",
       "      <td>2017</td>\n",
       "      <td>Individual</td>\n",
       "      <td>1st owner</td>\n",
       "      <td>5650</td>\n",
       "      <td>NaN</td>\n",
       "    </tr>\n",
       "    <tr>\n",
       "      <th>2</th>\n",
       "      <td>Royal Enfield Classic Gunmetal Grey</td>\n",
       "      <td>150000</td>\n",
       "      <td>2018</td>\n",
       "      <td>Individual</td>\n",
       "      <td>1st owner</td>\n",
       "      <td>12000</td>\n",
       "      <td>148114.0</td>\n",
       "    </tr>\n",
       "    <tr>\n",
       "      <th>3</th>\n",
       "      <td>Yamaha Fazer FI V 2.0 [2016-2018]</td>\n",
       "      <td>65000</td>\n",
       "      <td>2015</td>\n",
       "      <td>Individual</td>\n",
       "      <td>1st owner</td>\n",
       "      <td>23000</td>\n",
       "      <td>89643.0</td>\n",
       "    </tr>\n",
       "    <tr>\n",
       "      <th>4</th>\n",
       "      <td>Yamaha SZ [2013-2014]</td>\n",
       "      <td>20000</td>\n",
       "      <td>2011</td>\n",
       "      <td>Individual</td>\n",
       "      <td>2nd owner</td>\n",
       "      <td>21000</td>\n",
       "      <td>NaN</td>\n",
       "    </tr>\n",
       "    <tr>\n",
       "      <th>...</th>\n",
       "      <td>...</td>\n",
       "      <td>...</td>\n",
       "      <td>...</td>\n",
       "      <td>...</td>\n",
       "      <td>...</td>\n",
       "      <td>...</td>\n",
       "      <td>...</td>\n",
       "    </tr>\n",
       "    <tr>\n",
       "      <th>1056</th>\n",
       "      <td>Activa 3g</td>\n",
       "      <td>17000</td>\n",
       "      <td>2010</td>\n",
       "      <td>Individual</td>\n",
       "      <td>1st owner</td>\n",
       "      <td>500000</td>\n",
       "      <td>52000.0</td>\n",
       "    </tr>\n",
       "    <tr>\n",
       "      <th>1057</th>\n",
       "      <td>Honda CB twister</td>\n",
       "      <td>16000</td>\n",
       "      <td>2012</td>\n",
       "      <td>Individual</td>\n",
       "      <td>1st owner</td>\n",
       "      <td>33000</td>\n",
       "      <td>51000.0</td>\n",
       "    </tr>\n",
       "    <tr>\n",
       "      <th>1058</th>\n",
       "      <td>Bajaj Discover 125</td>\n",
       "      <td>15000</td>\n",
       "      <td>2013</td>\n",
       "      <td>Individual</td>\n",
       "      <td>2nd owner</td>\n",
       "      <td>35000</td>\n",
       "      <td>57000.0</td>\n",
       "    </tr>\n",
       "    <tr>\n",
       "      <th>1059</th>\n",
       "      <td>Honda CB Shine</td>\n",
       "      <td>12000</td>\n",
       "      <td>2009</td>\n",
       "      <td>Individual</td>\n",
       "      <td>1st owner</td>\n",
       "      <td>53000</td>\n",
       "      <td>58000.0</td>\n",
       "    </tr>\n",
       "    <tr>\n",
       "      <th>1060</th>\n",
       "      <td>Bajaj Pulsar 150</td>\n",
       "      <td>10000</td>\n",
       "      <td>2008</td>\n",
       "      <td>Individual</td>\n",
       "      <td>1st owner</td>\n",
       "      <td>92233</td>\n",
       "      <td>75000.0</td>\n",
       "    </tr>\n",
       "  </tbody>\n",
       "</table>\n",
       "<p>1061 rows × 7 columns</p>\n",
       "</div>"
      ],
      "text/plain": [
       "                                     name  selling_price  year seller_type  \\\n",
       "0               Royal Enfield Classic 350         175000  2019  Individual   \n",
       "1                               Honda Dio          45000  2017  Individual   \n",
       "2     Royal Enfield Classic Gunmetal Grey         150000  2018  Individual   \n",
       "3       Yamaha Fazer FI V 2.0 [2016-2018]          65000  2015  Individual   \n",
       "4                   Yamaha SZ [2013-2014]          20000  2011  Individual   \n",
       "...                                   ...            ...   ...         ...   \n",
       "1056                            Activa 3g          17000  2010  Individual   \n",
       "1057                     Honda CB twister          16000  2012  Individual   \n",
       "1058                   Bajaj Discover 125          15000  2013  Individual   \n",
       "1059                       Honda CB Shine          12000  2009  Individual   \n",
       "1060                     Bajaj Pulsar 150          10000  2008  Individual   \n",
       "\n",
       "          owner  km_driven  ex_showroom_price  \n",
       "0     1st owner        350                NaN  \n",
       "1     1st owner       5650                NaN  \n",
       "2     1st owner      12000           148114.0  \n",
       "3     1st owner      23000            89643.0  \n",
       "4     2nd owner      21000                NaN  \n",
       "...         ...        ...                ...  \n",
       "1056  1st owner     500000            52000.0  \n",
       "1057  1st owner      33000            51000.0  \n",
       "1058  2nd owner      35000            57000.0  \n",
       "1059  1st owner      53000            58000.0  \n",
       "1060  1st owner      92233            75000.0  \n",
       "\n",
       "[1061 rows x 7 columns]"
      ]
     },
     "execution_count": 4,
     "metadata": {},
     "output_type": "execute_result"
    }
   ],
   "source": [
    "df"
   ]
  },
  {
   "cell_type": "code",
   "execution_count": 5,
   "id": "7fc50163-928a-47ca-a4b7-6b20ca709685",
   "metadata": {},
   "outputs": [
    {
     "data": {
      "text/plain": [
       "(1061, 7)"
      ]
     },
     "execution_count": 5,
     "metadata": {},
     "output_type": "execute_result"
    }
   ],
   "source": [
    "df.shape"
   ]
  },
  {
   "cell_type": "code",
   "execution_count": 6,
   "id": "4aacb271-9cdd-44f5-933f-6845ca1ab357",
   "metadata": {},
   "outputs": [
    {
     "data": {
      "text/plain": [
       "Index(['name', 'selling_price', 'year', 'seller_type', 'owner', 'km_driven',\n",
       "       'ex_showroom_price'],\n",
       "      dtype='object')"
      ]
     },
     "execution_count": 6,
     "metadata": {},
     "output_type": "execute_result"
    }
   ],
   "source": [
    "df.columns"
   ]
  },
  {
   "cell_type": "code",
   "execution_count": 7,
   "id": "66e17a2a-c25b-499c-9912-b28651074fad",
   "metadata": {},
   "outputs": [
    {
     "data": {
      "text/plain": [
       "name                  object\n",
       "selling_price          int64\n",
       "year                   int64\n",
       "seller_type           object\n",
       "owner                 object\n",
       "km_driven              int64\n",
       "ex_showroom_price    float64\n",
       "dtype: object"
      ]
     },
     "execution_count": 7,
     "metadata": {},
     "output_type": "execute_result"
    }
   ],
   "source": [
    "df.dtypes"
   ]
  },
  {
   "cell_type": "code",
   "execution_count": 8,
   "id": "24a5ff8f-87d6-4e23-a763-8d7dfe158cb2",
   "metadata": {},
   "outputs": [
    {
     "data": {
      "text/plain": [
       "name                   0\n",
       "selling_price          0\n",
       "year                   0\n",
       "seller_type            0\n",
       "owner                  0\n",
       "km_driven              0\n",
       "ex_showroom_price    435\n",
       "dtype: int64"
      ]
     },
     "execution_count": 8,
     "metadata": {},
     "output_type": "execute_result"
    }
   ],
   "source": [
    "df.isnull().sum()"
   ]
  },
  {
   "cell_type": "code",
   "execution_count": 9,
   "id": "cc7093d9-e867-4b72-9d65-27f230c3cc37",
   "metadata": {},
   "outputs": [],
   "source": [
    "# 1 What is the range of selling prices in the dataset \n",
    "selling_price_range = df['selling_price'].min(), df['selling_price'].max()\n"
   ]
  },
  {
   "cell_type": "code",
   "execution_count": 10,
   "id": "507fc57c-756c-4fdb-bc4a-27e21027b1f7",
   "metadata": {},
   "outputs": [
    {
     "data": {
      "text/plain": [
       "(np.int64(5000), np.int64(760000))"
      ]
     },
     "execution_count": 10,
     "metadata": {},
     "output_type": "execute_result"
    }
   ],
   "source": [
    "selling_price_range"
   ]
  },
  {
   "cell_type": "code",
   "execution_count": 11,
   "id": "51056015-9689-435f-ac26-9c525427134f",
   "metadata": {},
   "outputs": [],
   "source": [
    "# 2 What is the median selling price for bikes in the dataset \n",
    "\n",
    "median_selling_price = df['selling_price'].median()\n"
   ]
  },
  {
   "cell_type": "code",
   "execution_count": 12,
   "id": "a58a7f53-7395-44e4-ad3e-dc02c6ab5952",
   "metadata": {},
   "outputs": [
    {
     "data": {
      "text/plain": [
       "np.float64(45000.0)"
      ]
     },
     "execution_count": 12,
     "metadata": {},
     "output_type": "execute_result"
    }
   ],
   "source": [
    "median_selling_price"
   ]
  },
  {
   "cell_type": "code",
   "execution_count": 13,
   "id": "350f37cd-1eec-4bb9-8711-f1ef84f72e21",
   "metadata": {},
   "outputs": [],
   "source": [
    "# 3  What is the most common seller type \n",
    "most_common_seller_type = df['seller_type'].mode()[0]\n"
   ]
  },
  {
   "cell_type": "code",
   "execution_count": 14,
   "id": "86d6cf56-35e7-44fa-b2f8-1b2353e49be8",
   "metadata": {},
   "outputs": [
    {
     "data": {
      "text/plain": [
       "'Individual'"
      ]
     },
     "execution_count": 14,
     "metadata": {},
     "output_type": "execute_result"
    }
   ],
   "source": [
    "most_common_seller_type"
   ]
  },
  {
   "cell_type": "code",
   "execution_count": 15,
   "id": "bcaa3763-681a-46f0-88b6-d9ea25f3bbda",
   "metadata": {},
   "outputs": [],
   "source": [
    "# 4 How many bikes have driven more than 50,000 kilometers \n",
    "bikes_over_50k_km = df[df['km_driven'] > 50000].shape[0]\n"
   ]
  },
  {
   "cell_type": "code",
   "execution_count": 16,
   "id": "dc0956d9-4448-4173-a757-61fc90c0e43c",
   "metadata": {},
   "outputs": [
    {
     "data": {
      "text/plain": [
       "170"
      ]
     },
     "execution_count": 16,
     "metadata": {},
     "output_type": "execute_result"
    }
   ],
   "source": [
    "bikes_over_50k_km"
   ]
  },
  {
   "cell_type": "code",
   "execution_count": 17,
   "id": "2997ca76-6c71-431f-863a-c828ca215046",
   "metadata": {},
   "outputs": [],
   "source": [
    "# 5 What is the average km_driven value for each ownership type\n",
    "average_km_driven_by_owner = df.groupby('owner')['km_driven'].mean()\n",
    "\n"
   ]
  },
  {
   "cell_type": "code",
   "execution_count": 18,
   "id": "04fad124-d9a9-4a25-b68b-3c0b5c9c81aa",
   "metadata": {},
   "outputs": [
    {
     "data": {
      "text/plain": [
       "owner\n",
       "1st owner     32816.583333\n",
       "2nd owner     39288.991870\n",
       "3rd owner     33292.181818\n",
       "4th owner    311500.000000\n",
       "Name: km_driven, dtype: float64"
      ]
     },
     "execution_count": 18,
     "metadata": {},
     "output_type": "execute_result"
    }
   ],
   "source": [
    "average_km_driven_by_owner"
   ]
  },
  {
   "cell_type": "code",
   "execution_count": 19,
   "id": "7fbeab65-95d4-414c-9036-10d5b1ff863a",
   "metadata": {},
   "outputs": [],
   "source": [
    "# 6 What proportion of bikes are from the year 2015 or older\n",
    "bikes_2015_or_older = df[df['year'] <= 2015].shape[0]\n",
    "total_bikes = df.shape[0]\n",
    "proportion_2015_or_older = bikes_2015_or_older / total_bikes * 100\n"
   ]
  },
  {
   "cell_type": "code",
   "execution_count": 20,
   "id": "0bdb90f6-7f92-4353-80c6-203314c1b2f9",
   "metadata": {},
   "outputs": [
    {
     "data": {
      "text/plain": [
       "601"
      ]
     },
     "execution_count": 20,
     "metadata": {},
     "output_type": "execute_result"
    }
   ],
   "source": [
    "bikes_2015_or_older"
   ]
  },
  {
   "cell_type": "code",
   "execution_count": 21,
   "id": "6e73eab0-2d0c-48df-96aa-d5de778c13b3",
   "metadata": {},
   "outputs": [
    {
     "data": {
      "text/plain": [
       "1061"
      ]
     },
     "execution_count": 21,
     "metadata": {},
     "output_type": "execute_result"
    }
   ],
   "source": [
    "total_bikes"
   ]
  },
  {
   "cell_type": "code",
   "execution_count": 22,
   "id": "c5f92ffc-4edd-442e-935a-468362872a43",
   "metadata": {},
   "outputs": [
    {
     "data": {
      "text/plain": [
       "56.64467483506126"
      ]
     },
     "execution_count": 22,
     "metadata": {},
     "output_type": "execute_result"
    }
   ],
   "source": [
    "proportion_2015_or_older"
   ]
  },
  {
   "cell_type": "code",
   "execution_count": 23,
   "id": "fee0f754-69d0-4f99-a7b6-a25b351dff2e",
   "metadata": {},
   "outputs": [],
   "source": [
    "# 7 What is the trend of missing values across the dataset\n",
    "missing_values_count = df.isnull().sum()\n",
    "\n",
    "missing_values_proportion = df.isnull().mean()\n",
    "\n",
    "# Combine the results into a single DataFrame for better readability\n",
    "missing_values_trend = pd.DataFrame({\n",
    "    \"Missing Values Count\": missing_values_count,\n",
    "    \"Missing Values Proportion (%)\": missing_values_proportion * 100\n",
    "})"
   ]
  },
  {
   "cell_type": "code",
   "execution_count": 24,
   "id": "7c15e237-a9fe-46f9-8042-99eb3e040fe1",
   "metadata": {},
   "outputs": [
    {
     "data": {
      "text/plain": [
       "name                   0\n",
       "selling_price          0\n",
       "year                   0\n",
       "seller_type            0\n",
       "owner                  0\n",
       "km_driven              0\n",
       "ex_showroom_price    435\n",
       "dtype: int64"
      ]
     },
     "execution_count": 24,
     "metadata": {},
     "output_type": "execute_result"
    }
   ],
   "source": [
    "missing_values_count\n"
   ]
  },
  {
   "cell_type": "code",
   "execution_count": 25,
   "id": "9b6741d5-a70e-45ba-8b29-786a46a468bd",
   "metadata": {},
   "outputs": [
    {
     "data": {
      "text/plain": [
       "name                 0.000000\n",
       "selling_price        0.000000\n",
       "year                 0.000000\n",
       "seller_type          0.000000\n",
       "owner                0.000000\n",
       "km_driven            0.000000\n",
       "ex_showroom_price    0.409991\n",
       "dtype: float64"
      ]
     },
     "execution_count": 25,
     "metadata": {},
     "output_type": "execute_result"
    }
   ],
   "source": [
    "missing_values_proportion"
   ]
  },
  {
   "cell_type": "code",
   "execution_count": 26,
   "id": "2205fbb3-2cec-4ea2-a06a-759b47c8a3cb",
   "metadata": {},
   "outputs": [
    {
     "data": {
      "text/html": [
       "<div>\n",
       "<style scoped>\n",
       "    .dataframe tbody tr th:only-of-type {\n",
       "        vertical-align: middle;\n",
       "    }\n",
       "\n",
       "    .dataframe tbody tr th {\n",
       "        vertical-align: top;\n",
       "    }\n",
       "\n",
       "    .dataframe thead th {\n",
       "        text-align: right;\n",
       "    }\n",
       "</style>\n",
       "<table border=\"1\" class=\"dataframe\">\n",
       "  <thead>\n",
       "    <tr style=\"text-align: right;\">\n",
       "      <th></th>\n",
       "      <th>Missing Values Count</th>\n",
       "      <th>Missing Values Proportion (%)</th>\n",
       "    </tr>\n",
       "  </thead>\n",
       "  <tbody>\n",
       "    <tr>\n",
       "      <th>name</th>\n",
       "      <td>0</td>\n",
       "      <td>0.000000</td>\n",
       "    </tr>\n",
       "    <tr>\n",
       "      <th>selling_price</th>\n",
       "      <td>0</td>\n",
       "      <td>0.000000</td>\n",
       "    </tr>\n",
       "    <tr>\n",
       "      <th>year</th>\n",
       "      <td>0</td>\n",
       "      <td>0.000000</td>\n",
       "    </tr>\n",
       "    <tr>\n",
       "      <th>seller_type</th>\n",
       "      <td>0</td>\n",
       "      <td>0.000000</td>\n",
       "    </tr>\n",
       "    <tr>\n",
       "      <th>owner</th>\n",
       "      <td>0</td>\n",
       "      <td>0.000000</td>\n",
       "    </tr>\n",
       "    <tr>\n",
       "      <th>km_driven</th>\n",
       "      <td>0</td>\n",
       "      <td>0.000000</td>\n",
       "    </tr>\n",
       "    <tr>\n",
       "      <th>ex_showroom_price</th>\n",
       "      <td>435</td>\n",
       "      <td>40.999057</td>\n",
       "    </tr>\n",
       "  </tbody>\n",
       "</table>\n",
       "</div>"
      ],
      "text/plain": [
       "                   Missing Values Count  Missing Values Proportion (%)\n",
       "name                                  0                       0.000000\n",
       "selling_price                         0                       0.000000\n",
       "year                                  0                       0.000000\n",
       "seller_type                           0                       0.000000\n",
       "owner                                 0                       0.000000\n",
       "km_driven                             0                       0.000000\n",
       "ex_showroom_price                   435                      40.999057"
      ]
     },
     "execution_count": 26,
     "metadata": {},
     "output_type": "execute_result"
    }
   ],
   "source": [
    "missing_values_trend"
   ]
  },
  {
   "cell_type": "code",
   "execution_count": 28,
   "id": "a1fbf441-c89d-4605-b811-e23cc9eb5171",
   "metadata": {},
   "outputs": [
    {
     "data": {
      "text/plain": [
       "(np.float64(1278000.0),\n",
       "                            name  ex_showroom_price\n",
       " 134  Harley-Davidson Street Bob          1278000.0)"
      ]
     },
     "execution_count": 28,
     "metadata": {},
     "output_type": "execute_result"
    }
   ],
   "source": [
    "# 8  What is the highest ex_showroom_price recorded, and for which bike\n",
    "highest_price = df['ex_showroom_price'].max()\n",
    "bike_with_highest_price = df[df['ex_showroom_price'] == highest_price]\n",
    "\n",
    "highest_price, bike_with_highest_price[['name', 'ex_showroom_price']]\n"
   ]
  },
  {
   "cell_type": "code",
   "execution_count": 29,
   "id": "3cb3f8ba-e29b-4a53-98c5-a592bcf8771e",
   "metadata": {},
   "outputs": [
    {
     "data": {
      "text/plain": [
       "np.float64(1278000.0)"
      ]
     },
     "execution_count": 29,
     "metadata": {},
     "output_type": "execute_result"
    }
   ],
   "source": [
    "highest_price"
   ]
  },
  {
   "cell_type": "code",
   "execution_count": 30,
   "id": "a03d463f-aa71-47e0-90a2-7079bd1fc26d",
   "metadata": {},
   "outputs": [
    {
     "data": {
      "text/html": [
       "<div>\n",
       "<style scoped>\n",
       "    .dataframe tbody tr th:only-of-type {\n",
       "        vertical-align: middle;\n",
       "    }\n",
       "\n",
       "    .dataframe tbody tr th {\n",
       "        vertical-align: top;\n",
       "    }\n",
       "\n",
       "    .dataframe thead th {\n",
       "        text-align: right;\n",
       "    }\n",
       "</style>\n",
       "<table border=\"1\" class=\"dataframe\">\n",
       "  <thead>\n",
       "    <tr style=\"text-align: right;\">\n",
       "      <th></th>\n",
       "      <th>name</th>\n",
       "      <th>selling_price</th>\n",
       "      <th>year</th>\n",
       "      <th>seller_type</th>\n",
       "      <th>owner</th>\n",
       "      <th>km_driven</th>\n",
       "      <th>ex_showroom_price</th>\n",
       "    </tr>\n",
       "  </thead>\n",
       "  <tbody>\n",
       "    <tr>\n",
       "      <th>134</th>\n",
       "      <td>Harley-Davidson Street Bob</td>\n",
       "      <td>750000</td>\n",
       "      <td>2013</td>\n",
       "      <td>Individual</td>\n",
       "      <td>2nd owner</td>\n",
       "      <td>12000</td>\n",
       "      <td>1278000.0</td>\n",
       "    </tr>\n",
       "  </tbody>\n",
       "</table>\n",
       "</div>"
      ],
      "text/plain": [
       "                           name  selling_price  year seller_type      owner  \\\n",
       "134  Harley-Davidson Street Bob         750000  2013  Individual  2nd owner   \n",
       "\n",
       "     km_driven  ex_showroom_price  \n",
       "134      12000          1278000.0  "
      ]
     },
     "execution_count": 30,
     "metadata": {},
     "output_type": "execute_result"
    }
   ],
   "source": [
    "bike_with_highest_price"
   ]
  },
  {
   "cell_type": "code",
   "execution_count": 31,
   "id": "ac39d796-a186-4c4f-a49d-42c432c4f537",
   "metadata": {},
   "outputs": [],
   "source": [
    "# 9 What is the total number of bikes listed by each seller type\n",
    "bikes_by_seller_type = df['seller_type'].value_counts()\n"
   ]
  },
  {
   "cell_type": "code",
   "execution_count": 32,
   "id": "28b864c6-fd2a-4495-ba6c-2a109253564c",
   "metadata": {},
   "outputs": [
    {
     "data": {
      "text/plain": [
       "seller_type\n",
       "Individual    1055\n",
       "Dealer           6\n",
       "Name: count, dtype: int64"
      ]
     },
     "execution_count": 32,
     "metadata": {},
     "output_type": "execute_result"
    }
   ],
   "source": [
    "bikes_by_seller_type"
   ]
  },
  {
   "cell_type": "code",
   "execution_count": 33,
   "id": "a18262fd-1653-44ee-9733-accdc25f69bb",
   "metadata": {},
   "outputs": [
    {
     "data": {
      "image/png": "[encoded data removed]",
      "text/plain": [
       "<Figure size 1000x600 with 1 Axes>"
      ]
     },
     "metadata": {},
     "output_type": "display_data"
    }
   ],
   "source": [
    "# 10 What is the relationship between selling_price and km_driven for first-owner bikes\n",
    "import matplotlib.pyplot as plt\n",
    "\n",
    "first_owner_bikes = df[df['owner'] == '1st owner']\n",
    "\n",
    "plt.figure(figsize=(10, 6))\n",
    "plt.scatter(first_owner_bikes['km_driven'], first_owner_bikes['selling_price'], alpha=0.5)\n",
    "plt.title('Relationship Between Selling Price and KM Driven for First-Owner Bikes', fontsize=14)\n",
    "plt.xlabel('Kilometers Driven', fontsize=12)\n",
    "plt.ylabel('Selling Price (₹)', fontsize=12)\n",
    "plt.grid(True)\n",
    "plt.show()\n"
   ]
  },
  {
   "cell_type": "code",
   "execution_count": 34,
   "id": "ed2371e2-3dea-4e43-9da3-43f795aad75f",
   "metadata": {},
   "outputs": [
    {
     "data": {
      "text/plain": [
       "(39, 1022)"
      ]
     },
     "execution_count": 34,
     "metadata": {},
     "output_type": "execute_result"
    }
   ],
   "source": [
    "# 11 Identify and remove outliers in the km_driven column using the IQR method\n",
    "Q1 = df['km_driven'].quantile(0.25)\n",
    "Q3 = df['km_driven'].quantile(0.75)\n",
    "IQR = Q3 - Q1\n",
    "\n",
    "lower_bound = Q1 - 1.5 * IQR\n",
    "upper_bound = Q3 + 1.5 * IQR\n",
    "\n",
    "# Identify outliers\n",
    "outliers = df[(df['km_driven'] < lower_bound) | (df['km_driven'] > upper_bound)]\n",
    "\n",
    "# Remove outliers from the dataset\n",
    "bike_data_without_outliers = df[~((df['km_driven'] < lower_bound) | (df['km_driven'] > upper_bound))]\n",
    "\n",
    "outliers.shape[0], bike_data_without_outliers.shape[0]\n"
   ]
  },
  {
   "cell_type": "code",
   "execution_count": 35,
   "id": "8fe03715-5222-485d-b5f9-d321fc1a9b24",
   "metadata": {},
   "outputs": [
    {
     "data": {
      "text/plain": [
       "(np.float64(-30750.0), np.float64(87250.0))"
      ]
     },
     "execution_count": 35,
     "metadata": {},
     "output_type": "execute_result"
    }
   ],
   "source": [
    "lower_bound, upper_bound"
   ]
  },
  {
   "cell_type": "code",
   "execution_count": 37,
   "id": "489d3c2d-6603-41a2-9fb9-8de5b77549c5",
   "metadata": {},
   "outputs": [
    {
     "data": {
      "text/html": [
       "<div>\n",
       "<style scoped>\n",
       "    .dataframe tbody tr th:only-of-type {\n",
       "        vertical-align: middle;\n",
       "    }\n",
       "\n",
       "    .dataframe tbody tr th {\n",
       "        vertical-align: top;\n",
       "    }\n",
       "\n",
       "    .dataframe thead th {\n",
       "        text-align: right;\n",
       "    }\n",
       "</style>\n",
       "<table border=\"1\" class=\"dataframe\">\n",
       "  <thead>\n",
       "    <tr style=\"text-align: right;\">\n",
       "      <th></th>\n",
       "      <th>name</th>\n",
       "      <th>selling_price</th>\n",
       "      <th>year</th>\n",
       "      <th>seller_type</th>\n",
       "      <th>owner</th>\n",
       "      <th>km_driven</th>\n",
       "      <th>ex_showroom_price</th>\n",
       "    </tr>\n",
       "  </thead>\n",
       "  <tbody>\n",
       "    <tr>\n",
       "      <th>0</th>\n",
       "      <td>Royal Enfield Classic 350</td>\n",
       "      <td>175000</td>\n",
       "      <td>2019</td>\n",
       "      <td>Individual</td>\n",
       "      <td>1st owner</td>\n",
       "      <td>350</td>\n",
       "      <td>NaN</td>\n",
       "    </tr>\n",
       "    <tr>\n",
       "      <th>1</th>\n",
       "      <td>Honda Dio</td>\n",
       "      <td>45000</td>\n",
       "      <td>2017</td>\n",
       "      <td>Individual</td>\n",
       "      <td>1st owner</td>\n",
       "      <td>5650</td>\n",
       "      <td>NaN</td>\n",
       "    </tr>\n",
       "    <tr>\n",
       "      <th>2</th>\n",
       "      <td>Royal Enfield Classic Gunmetal Grey</td>\n",
       "      <td>150000</td>\n",
       "      <td>2018</td>\n",
       "      <td>Individual</td>\n",
       "      <td>1st owner</td>\n",
       "      <td>12000</td>\n",
       "      <td>148114.0</td>\n",
       "    </tr>\n",
       "    <tr>\n",
       "      <th>3</th>\n",
       "      <td>Yamaha Fazer FI V 2.0 [2016-2018]</td>\n",
       "      <td>65000</td>\n",
       "      <td>2015</td>\n",
       "      <td>Individual</td>\n",
       "      <td>1st owner</td>\n",
       "      <td>23000</td>\n",
       "      <td>89643.0</td>\n",
       "    </tr>\n",
       "    <tr>\n",
       "      <th>4</th>\n",
       "      <td>Yamaha SZ [2013-2014]</td>\n",
       "      <td>20000</td>\n",
       "      <td>2011</td>\n",
       "      <td>Individual</td>\n",
       "      <td>2nd owner</td>\n",
       "      <td>21000</td>\n",
       "      <td>NaN</td>\n",
       "    </tr>\n",
       "    <tr>\n",
       "      <th>...</th>\n",
       "      <td>...</td>\n",
       "      <td>...</td>\n",
       "      <td>...</td>\n",
       "      <td>...</td>\n",
       "      <td>...</td>\n",
       "      <td>...</td>\n",
       "      <td>...</td>\n",
       "    </tr>\n",
       "    <tr>\n",
       "      <th>1054</th>\n",
       "      <td>Hero  CBZ Xtreme</td>\n",
       "      <td>20000</td>\n",
       "      <td>2010</td>\n",
       "      <td>Individual</td>\n",
       "      <td>1st owner</td>\n",
       "      <td>50000</td>\n",
       "      <td>78700.0</td>\n",
       "    </tr>\n",
       "    <tr>\n",
       "      <th>1055</th>\n",
       "      <td>Bajaj  ct 100</td>\n",
       "      <td>18000</td>\n",
       "      <td>2017</td>\n",
       "      <td>Individual</td>\n",
       "      <td>1st owner</td>\n",
       "      <td>35000</td>\n",
       "      <td>32000.0</td>\n",
       "    </tr>\n",
       "    <tr>\n",
       "      <th>1057</th>\n",
       "      <td>Honda CB twister</td>\n",
       "      <td>16000</td>\n",
       "      <td>2012</td>\n",
       "      <td>Individual</td>\n",
       "      <td>1st owner</td>\n",
       "      <td>33000</td>\n",
       "      <td>51000.0</td>\n",
       "    </tr>\n",
       "    <tr>\n",
       "      <th>1058</th>\n",
       "      <td>Bajaj Discover 125</td>\n",
       "      <td>15000</td>\n",
       "      <td>2013</td>\n",
       "      <td>Individual</td>\n",
       "      <td>2nd owner</td>\n",
       "      <td>35000</td>\n",
       "      <td>57000.0</td>\n",
       "    </tr>\n",
       "    <tr>\n",
       "      <th>1059</th>\n",
       "      <td>Honda CB Shine</td>\n",
       "      <td>12000</td>\n",
       "      <td>2009</td>\n",
       "      <td>Individual</td>\n",
       "      <td>1st owner</td>\n",
       "      <td>53000</td>\n",
       "      <td>58000.0</td>\n",
       "    </tr>\n",
       "  </tbody>\n",
       "</table>\n",
       "<p>1022 rows × 7 columns</p>\n",
       "</div>"
      ],
      "text/plain": [
       "                                     name  selling_price  year seller_type  \\\n",
       "0               Royal Enfield Classic 350         175000  2019  Individual   \n",
       "1                               Honda Dio          45000  2017  Individual   \n",
       "2     Royal Enfield Classic Gunmetal Grey         150000  2018  Individual   \n",
       "3       Yamaha Fazer FI V 2.0 [2016-2018]          65000  2015  Individual   \n",
       "4                   Yamaha SZ [2013-2014]          20000  2011  Individual   \n",
       "...                                   ...            ...   ...         ...   \n",
       "1054                     Hero  CBZ Xtreme          20000  2010  Individual   \n",
       "1055                        Bajaj  ct 100          18000  2017  Individual   \n",
       "1057                     Honda CB twister          16000  2012  Individual   \n",
       "1058                   Bajaj Discover 125          15000  2013  Individual   \n",
       "1059                       Honda CB Shine          12000  2009  Individual   \n",
       "\n",
       "          owner  km_driven  ex_showroom_price  \n",
       "0     1st owner        350                NaN  \n",
       "1     1st owner       5650                NaN  \n",
       "2     1st owner      12000           148114.0  \n",
       "3     1st owner      23000            89643.0  \n",
       "4     2nd owner      21000                NaN  \n",
       "...         ...        ...                ...  \n",
       "1054  1st owner      50000            78700.0  \n",
       "1055  1st owner      35000            32000.0  \n",
       "1057  1st owner      33000            51000.0  \n",
       "1058  2nd owner      35000            57000.0  \n",
       "1059  1st owner      53000            58000.0  \n",
       "\n",
       "[1022 rows x 7 columns]"
      ]
     },
     "execution_count": 37,
     "metadata": {},
     "output_type": "execute_result"
    }
   ],
   "source": [
    "bike_data_without_outliers"
   ]
  },
  {
   "cell_type": "code",
   "execution_count": 39,
   "id": "be182036-8088-4c76-acdb-375b4adc5d04",
   "metadata": {},
   "outputs": [
    {
     "data": {
      "image/png": "[encoded data removed]",
      "text/plain": [
       "<Figure size 1200x600 with 1 Axes>"
      ]
     },
     "metadata": {},
     "output_type": "display_data"
    }
   ],
   "source": [
    "# 12 Perform a bivariate analysis to visualize the relationship between year and selling_price\n",
    "# Plot the relationship between year and selling_price\n",
    "plt.figure(figsize=(12, 6))\n",
    "plt.scatter(df['year'], df['selling_price'], alpha=0.6, color='teal')\n",
    "plt.title('Relationship Between Year and Selling Price', fontsize=14)\n",
    "plt.xlabel('Year of Manufacture', fontsize=12)\n",
    "plt.ylabel('Selling Price (₹)', fontsize=12)\n",
    "plt.grid(True)\n",
    "plt.show()\n"
   ]
  },
  {
   "cell_type": "code",
   "execution_count": 42,
   "id": "01dc8c9f-3169-4b9b-bc57-9f7eaf12a3b4",
   "metadata": {},
   "outputs": [],
   "source": [
    "# 13 What is the average depreciation in selling price based on the bike's age (current year - manufacturing year)\n",
    "from datetime import datetime\n",
    "\n",
    "current_year = datetime.now().year\n",
    "\n",
    "df['age'] = current_year - df['year']\n",
    "\n",
    "# Calculate the average depreciation per year\n",
    "average_depreciation = df['selling_price'].sum() / df['age'].sum()\n",
    "\n"
   ]
  },
  {
   "cell_type": "code",
   "execution_count": 43,
   "id": "60a53f47-964d-4946-8c55-b991dbea1492",
   "metadata": {},
   "outputs": [
    {
     "data": {
      "text/plain": [
       "np.float64(5885.599386103619)"
      ]
     },
     "execution_count": 43,
     "metadata": {},
     "output_type": "execute_result"
    }
   ],
   "source": [
    "average_depreciation\n"
   ]
  },
  {
   "cell_type": "code",
   "execution_count": 44,
   "id": "25112534-1365-488f-89d5-a3cfdcdee788",
   "metadata": {},
   "outputs": [
    {
     "data": {
      "text/html": [
       "<div>\n",
       "<style scoped>\n",
       "    .dataframe tbody tr th:only-of-type {\n",
       "        vertical-align: middle;\n",
       "    }\n",
       "\n",
       "    .dataframe tbody tr th {\n",
       "        vertical-align: top;\n",
       "    }\n",
       "\n",
       "    .dataframe thead th {\n",
       "        text-align: right;\n",
       "    }\n",
       "</style>\n",
       "<table border=\"1\" class=\"dataframe\">\n",
       "  <thead>\n",
       "    <tr style=\"text-align: right;\">\n",
       "      <th></th>\n",
       "      <th>name</th>\n",
       "      <th>year</th>\n",
       "      <th>selling_price</th>\n",
       "      <th>avg_price_for_year</th>\n",
       "    </tr>\n",
       "  </thead>\n",
       "  <tbody>\n",
       "    <tr>\n",
       "      <th>2</th>\n",
       "      <td>Royal Enfield Classic Gunmetal Grey</td>\n",
       "      <td>2018</td>\n",
       "      <td>150000</td>\n",
       "      <td>87660.374046</td>\n",
       "    </tr>\n",
       "    <tr>\n",
       "      <th>7</th>\n",
       "      <td>Royal Enfield Bullet 350 [2007-2011]</td>\n",
       "      <td>2008</td>\n",
       "      <td>180000</td>\n",
       "      <td>34289.285714</td>\n",
       "    </tr>\n",
       "    <tr>\n",
       "      <th>13</th>\n",
       "      <td>Yamaha YZF R3</td>\n",
       "      <td>2019</td>\n",
       "      <td>365000</td>\n",
       "      <td>119689.511628</td>\n",
       "    </tr>\n",
       "    <tr>\n",
       "      <th>18</th>\n",
       "      <td>Royal Enfield Classic Gunmetal Grey</td>\n",
       "      <td>2018</td>\n",
       "      <td>150000</td>\n",
       "      <td>87660.374046</td>\n",
       "    </tr>\n",
       "    <tr>\n",
       "      <th>23</th>\n",
       "      <td>Jawa Standard</td>\n",
       "      <td>2019</td>\n",
       "      <td>180000</td>\n",
       "      <td>119689.511628</td>\n",
       "    </tr>\n",
       "    <tr>\n",
       "      <th>...</th>\n",
       "      <td>...</td>\n",
       "      <td>...</td>\n",
       "      <td>...</td>\n",
       "      <td>...</td>\n",
       "    </tr>\n",
       "    <tr>\n",
       "      <th>979</th>\n",
       "      <td>Royal Enfield Thunder 500</td>\n",
       "      <td>2015</td>\n",
       "      <td>105000</td>\n",
       "      <td>56500.000000</td>\n",
       "    </tr>\n",
       "    <tr>\n",
       "      <th>981</th>\n",
       "      <td>Royal Enfield Thunder 350</td>\n",
       "      <td>2013</td>\n",
       "      <td>105000</td>\n",
       "      <td>51136.986301</td>\n",
       "    </tr>\n",
       "    <tr>\n",
       "      <th>983</th>\n",
       "      <td>Royal Enfield Classic 350</td>\n",
       "      <td>2015</td>\n",
       "      <td>100000</td>\n",
       "      <td>56500.000000</td>\n",
       "    </tr>\n",
       "    <tr>\n",
       "      <th>984</th>\n",
       "      <td>Royal Enfield Classic 500</td>\n",
       "      <td>2014</td>\n",
       "      <td>95000</td>\n",
       "      <td>48668.131868</td>\n",
       "    </tr>\n",
       "    <tr>\n",
       "      <th>985</th>\n",
       "      <td>Royal Enfield Classic 500</td>\n",
       "      <td>2011</td>\n",
       "      <td>90000</td>\n",
       "      <td>35655.721311</td>\n",
       "    </tr>\n",
       "  </tbody>\n",
       "</table>\n",
       "<p>157 rows × 4 columns</p>\n",
       "</div>"
      ],
      "text/plain": [
       "                                     name  year  selling_price  \\\n",
       "2     Royal Enfield Classic Gunmetal Grey  2018         150000   \n",
       "7    Royal Enfield Bullet 350 [2007-2011]  2008         180000   \n",
       "13                          Yamaha YZF R3  2019         365000   \n",
       "18    Royal Enfield Classic Gunmetal Grey  2018         150000   \n",
       "23                          Jawa Standard  2019         180000   \n",
       "..                                    ...   ...            ...   \n",
       "979             Royal Enfield Thunder 500  2015         105000   \n",
       "981             Royal Enfield Thunder 350  2013         105000   \n",
       "983             Royal Enfield Classic 350  2015         100000   \n",
       "984             Royal Enfield Classic 500  2014          95000   \n",
       "985             Royal Enfield Classic 500  2011          90000   \n",
       "\n",
       "     avg_price_for_year  \n",
       "2          87660.374046  \n",
       "7          34289.285714  \n",
       "13        119689.511628  \n",
       "18         87660.374046  \n",
       "23        119689.511628  \n",
       "..                  ...  \n",
       "979        56500.000000  \n",
       "981        51136.986301  \n",
       "983        56500.000000  \n",
       "984        48668.131868  \n",
       "985        35655.721311  \n",
       "\n",
       "[157 rows x 4 columns]"
      ]
     },
     "execution_count": 44,
     "metadata": {},
     "output_type": "execute_result"
    }
   ],
   "source": [
    "# 14 Which bike names are priced significantly above the average price for their manufacturing year\n",
    "avg_price_by_year = df.groupby('year')['selling_price'].mean()\n",
    "\n",
    "# Merge the average price back into the dataset\n",
    "df['avg_price_for_year'] = df['year'].map(avg_price_by_year)\n",
    "\n",
    "# Identify bikes priced significantly above the average price for their manufacturing year (e.g., 1.5x the average price)\n",
    "threshold_factor = 1.5\n",
    "above_avg_bikes = df[df['selling_price'] > (df['avg_price_for_year'] * threshold_factor)]\n",
    "\n",
    "above_avg_bikes[['name', 'year', 'selling_price', 'avg_price_for_year']]\n"
   ]
  },
  {
   "cell_type": "code",
   "execution_count": 46,
   "id": "74dbef93-563e-4cf3-830f-337d6045dda7",
   "metadata": {},
   "outputs": [
    {
     "data": {
      "image/png": "[encoded data removed]",
      "text/plain": [
       "<Figure size 1000x800 with 2 Axes>"
      ]
     },
     "metadata": {},
     "output_type": "display_data"
    }
   ],
   "source": [
    "# 15 Develop a correlation matrix for numeric columns and visualize it using a heatmap.\n",
    "import seaborn as sns\n",
    "\n",
    "numeric_columns = df.select_dtypes(include=['float64', 'int64']).columns\n",
    "correlation_matrix = df[numeric_columns].corr()\n",
    "\n",
    "# Plot the heatmap\n",
    "plt.figure(figsize=(10, 8))\n",
    "sns.heatmap(correlation_matrix, annot=True, fmt=\".2f\", cmap=\"coolwarm\", cbar=True)\n",
    "plt.title('Correlation Matrix for Numeric Columns', fontsize=14)\n",
    "plt.show()\n"
   ]
  },
  {
   "cell_type": "code",
   "execution_count": null,
   "id": "74eded51-d534-4304-a9aa-cd9b50ee834f",
   "metadata": {},
   "outputs": [],
   "source": []
  }
 ],
 "metadata": {
  "kernelspec": {
   "display_name": "Python 3 (ipykernel)",
   "language": "python",
   "name": "python3"
  },
  "language_info": {
   "codemirror_mode": {
    "name": "ipython",
    "version": 3
   },
   "file_extension": ".py",
   "mimetype": "text/x-python",
   "name": "python",
   "nbconvert_exporter": "python",
   "pygments_lexer": "ipython3",
   "version": "3.11.3"
  }
 },
 "nbformat": 4,
 "nbformat_minor": 5
}
